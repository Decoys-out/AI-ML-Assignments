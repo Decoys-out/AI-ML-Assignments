{
 "cells": [
  {
   "cell_type": "markdown",
   "metadata": {},
   "source": [
    "\n",
    "# Assignment 2"
   ]
  },
  {
   "cell_type": "code",
   "execution_count": 1,
   "metadata": {},
   "outputs": [],
   "source": [
    "# Question 1"
   ]
  },
  {
   "cell_type": "code",
   "execution_count": 2,
   "metadata": {},
   "outputs": [],
   "source": [
    "import numpy as np"
   ]
  },
  {
   "cell_type": "code",
   "execution_count": 3,
   "metadata": {},
   "outputs": [
    {
     "name": "stdout",
     "output_type": "stream",
     "text": [
      "x= [[0.99067075]\n",
      " [0.63863818]\n",
      " [0.23011926]\n",
      " [0.87926672]\n",
      " [0.51420104]\n",
      " [0.47504433]\n",
      " [0.57251712]\n",
      " [0.50141043]\n",
      " [0.23507446]\n",
      " [0.6602117 ]]\n",
      "mean= 0.5697153992768202\n"
     ]
    }
   ],
   "source": [
    "x=np.random.rand(10,1)\n",
    "y=x.mean()\n",
    "print(\"x=\",x)\n",
    "print(\"mean=\",y)"
   ]
  },
  {
   "cell_type": "code",
   "execution_count": 4,
   "metadata": {},
   "outputs": [],
   "source": [
    "# Question 2"
   ]
  },
  {
   "cell_type": "code",
   "execution_count": 5,
   "metadata": {},
   "outputs": [
    {
     "name": "stdout",
     "output_type": "stream",
     "text": [
      "x= [[0.69869742]\n",
      " [0.19865235]\n",
      " [0.82807002]\n",
      " [0.41208095]\n",
      " [0.53552167]\n",
      " [0.00359666]\n",
      " [0.90638717]\n",
      " [0.27998376]\n",
      " [0.68205988]\n",
      " [0.23722887]\n",
      " [0.27909794]\n",
      " [0.02034907]\n",
      " [0.57703799]\n",
      " [0.91668278]\n",
      " [0.81539269]\n",
      " [0.19478745]\n",
      " [0.7025728 ]\n",
      " [0.90033374]\n",
      " [0.39708785]\n",
      " [0.15633473]]\n",
      "Standard deviation= 0.2988980255738354\n",
      "Variance= 0.08934002969193713\n"
     ]
    }
   ],
   "source": [
    "x=np.random.rand(20,1)\n",
    "y=x.std()\n",
    "z=x.var()\n",
    "print(\"x=\",x)\n",
    "print(\"Standard deviation=\",y)\n",
    "print(\"Variance=\",z)"
   ]
  },
  {
   "cell_type": "code",
   "execution_count": 6,
   "metadata": {},
   "outputs": [],
   "source": [
    "# Question 3"
   ]
  },
  {
   "cell_type": "code",
   "execution_count": 7,
   "metadata": {},
   "outputs": [
    {
     "name": "stdout",
     "output_type": "stream",
     "text": [
      "Shape= (10, 25)\n",
      "Sum of new matrix= 1216.7100687749505\n"
     ]
    }
   ],
   "source": [
    "x=np.random.rand(10,20)\n",
    "y=np.random.rand(20,25)\n",
    "z=np.matmul(x,y) # You can use z=np.dot(x,y) for the same result\n",
    "print(\"Shape=\",z.shape)\n",
    "print(\"Sum of new matrix=\",z.sum())"
   ]
  },
  {
   "cell_type": "code",
   "execution_count": 8,
   "metadata": {},
   "outputs": [],
   "source": [
    "# Question 4"
   ]
  },
  {
   "cell_type": "code",
   "execution_count": 9,
   "metadata": {},
   "outputs": [
    {
     "name": "stdout",
     "output_type": "stream",
     "text": [
      "[1.38846516 1.77320299 1.68411372 1.80842256 1.65860228 1.78928192\n",
      " 1.5460186  1.84090913 1.6910556  1.82199588]\n"
     ]
    }
   ],
   "source": [
    "import math\n",
    "x=np.random.rand(10,1)\n",
    "q=lambda x:1/1+math.exp(-x)\n",
    "y=np.array([q(xi) for xi in x])\n",
    "print(y)"
   ]
  },
  {
   "cell_type": "code",
   "execution_count": null,
   "metadata": {},
   "outputs": [],
   "source": []
  }
 ],
 "metadata": {
  "kernelspec": {
   "display_name": "Python 3",
   "language": "python",
   "name": "python3"
  },
  "language_info": {
   "codemirror_mode": {
    "name": "ipython",
    "version": 3
   },
   "file_extension": ".py",
   "mimetype": "text/x-python",
   "name": "python",
   "nbconvert_exporter": "python",
   "pygments_lexer": "ipython3",
   "version": "3.7.1"
  }
 },
 "nbformat": 4,
 "nbformat_minor": 2
}
