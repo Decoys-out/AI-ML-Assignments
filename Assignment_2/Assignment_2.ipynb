{
 "cells": [
  {
   "cell_type": "markdown",
   "metadata": {},
   "source": [
    "\n",
    "# Assignment 2"
   ]
  },
  {
   "cell_type": "code",
   "execution_count": 1,
   "metadata": {},
   "outputs": [],
   "source": [
    "# Question 1"
   ]
  },
  {
   "cell_type": "code",
   "execution_count": 29,
   "metadata": {},
   "outputs": [],
   "source": [
    "import numpy as np"
   ]
  },
  {
   "cell_type": "code",
   "execution_count": 18,
   "metadata": {},
   "outputs": [
    {
     "name": "stdout",
     "output_type": "stream",
     "text": [
      "x= [[0.03761712]\n",
      " [0.2055727 ]\n",
      " [0.75518836]\n",
      " [0.13583728]\n",
      " [0.18065258]\n",
      " [0.60681248]\n",
      " [0.17069313]\n",
      " [0.31946301]\n",
      " [0.79885458]\n",
      " [0.5998007 ]]\n",
      "mean= 0.381049194702782\n"
     ]
    }
   ],
   "source": [
    "x=np.random.rand(10,1)\n",
    "y=x.mean()\n",
    "print(\"x=\",x)\n",
    "print(\"mean=\",y)"
   ]
  },
  {
   "cell_type": "code",
   "execution_count": 12,
   "metadata": {},
   "outputs": [],
   "source": [
    "# Question 2"
   ]
  },
  {
   "cell_type": "code",
   "execution_count": 23,
   "metadata": {},
   "outputs": [
    {
     "name": "stdout",
     "output_type": "stream",
     "text": [
      "x= [[0.84575086]\n",
      " [0.81083618]\n",
      " [0.89235415]\n",
      " [0.53281745]\n",
      " [0.7915227 ]\n",
      " [0.97132643]\n",
      " [0.06848744]\n",
      " [0.79213321]\n",
      " [0.24666307]\n",
      " [0.80882609]\n",
      " [0.82777465]\n",
      " [0.27502376]\n",
      " [0.75704958]\n",
      " [0.04149299]\n",
      " [0.23914781]\n",
      " [0.34679087]\n",
      " [0.79241891]\n",
      " [0.51546863]\n",
      " [0.63818563]\n",
      " [0.43636618]]\n",
      "Standard deviation= 0.2838362857942221\n",
      "Variance= 0.08056303713345932\n"
     ]
    }
   ],
   "source": [
    "x=np.random.rand(20,1)\n",
    "y=x.std()\n",
    "z=x.var()\n",
    "print(\"x=\",x)\n",
    "print(\"Standard deviation=\",y)\n",
    "print(\"Variance=\",z)"
   ]
  },
  {
   "cell_type": "code",
   "execution_count": 28,
   "metadata": {},
   "outputs": [],
   "source": [
    "# Question 3"
   ]
  },
  {
   "cell_type": "code",
   "execution_count": 38,
   "metadata": {},
   "outputs": [
    {
     "name": "stdout",
     "output_type": "stream",
     "text": [
      "Shape= (10, 25)\n",
      "Sum of new matrix= 1314.8976400698998\n"
     ]
    }
   ],
   "source": [
    "x=np.random.rand(10,20)\n",
    "y=np.random.rand(20,25)\n",
    "z=x@y # You can use z=np.dot(x,y) for the same result\n",
    "print(\"Shape=\",z.shape)\n",
    "print(\"Sum of new matrix=\",z.sum())"
   ]
  },
  {
   "cell_type": "code",
   "execution_count": 39,
   "metadata": {},
   "outputs": [],
   "source": [
    "# Question 4"
   ]
  },
  {
   "cell_type": "code",
   "execution_count": 41,
   "metadata": {},
   "outputs": [
    {
     "name": "stdout",
     "output_type": "stream",
     "text": [
      "[2.35504793 2.03657121 2.71440155 3.35943734 2.2102527  2.00565922\n",
      " 2.36140421 2.91991832 2.55917015 2.63572118]\n"
     ]
    }
   ],
   "source": [
    "import math\n",
    "x=np.random.rand(10,1)\n",
    "q=lambda x:1/1+math.exp(x)\n",
    "y=np.array([q(xi) for xi in x])\n",
    "print(y)"
   ]
  },
  {
   "cell_type": "code",
   "execution_count": null,
   "metadata": {},
   "outputs": [],
   "source": []
  }
 ],
 "metadata": {
  "kernelspec": {
   "display_name": "Python 3",
   "language": "python",
   "name": "python3"
  },
  "language_info": {
   "codemirror_mode": {
    "name": "ipython",
    "version": 3
   },
   "file_extension": ".py",
   "mimetype": "text/x-python",
   "name": "python",
   "nbconvert_exporter": "python",
   "pygments_lexer": "ipython3",
   "version": "3.7.1"
  }
 },
 "nbformat": 4,
 "nbformat_minor": 2
}
